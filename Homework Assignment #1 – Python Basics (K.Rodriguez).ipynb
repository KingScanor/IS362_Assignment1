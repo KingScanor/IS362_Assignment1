{
 "cells": [
  {
   "cell_type": "code",
   "execution_count": null,
   "id": "483faaeb-4860-4d34-b507-d1e31c6402a9",
   "metadata": {},
   "outputs": [],
   "source": [
    "# HW1 - Kelvin Rodriguez - IS362"
   ]
  },
  {
   "cell_type": "code",
   "execution_count": 1,
   "id": "57a4151b-3da6-49ed-b515-28394b7d9731",
   "metadata": {},
   "outputs": [
    {
     "name": "stdout",
     "output_type": "stream",
     "text": [
      "1 2 3 4 can do python more\n"
     ]
    }
   ],
   "source": [
    "# 1)\n",
    "\n",
    "# Assign integer values to variables.\n",
    "one = 1\n",
    "two = 2\n",
    "three = 3\n",
    "four = 4\n",
    "\n",
    "# Assign string values to variables.\n",
    "can = \"can\"\n",
    "do = \"do\"\n",
    "python = \"python\"\n",
    "more = \"more\"\n",
    "\n",
    "print ( one, two, three, four, can, do, python, more)"
   ]
  },
  {
   "cell_type": "code",
   "execution_count": 10,
   "id": "321f2881-939f-411d-b13b-c64ddb1454d5",
   "metadata": {},
   "outputs": [
    {
     "name": "stdout",
     "output_type": "stream",
     "text": [
      "The result is 450\n"
     ]
    }
   ],
   "source": [
    "# 2)\n",
    "\n",
    "# Assign integer values to variables.\n",
    "number1 = 15\n",
    "number2 = 30\n",
    "\n",
    "print (f\"The result is {number1 * number2}\")"
   ]
  },
  {
   "cell_type": "code",
   "execution_count": 12,
   "id": "4269cb16-4a19-4cd9-9b32-e14a4c67f407",
   "metadata": {},
   "outputs": [
    {
     "name": "stdout",
     "output_type": "stream",
     "text": [
      "Given list: [10, 20, 30, 40, 10]\n",
      "\n",
      "result is True\n",
      "\n",
      "Given list: [75, 65, 35, 75, 30]\n",
      "\n",
      "result is False\n"
     ]
    }
   ],
   "source": [
    "# 3)\n",
    "\n",
    "# Define a function named 'first_and_last' that takes one argument, 'input_list'.\n",
    "def first_and_last(input_list):\n",
    "    if len (input_list) > 0 and input_list[0] == input_list [-1]:\n",
    "        return True\n",
    "    else:\n",
    "        return False\n",
    "\n",
    "# Define two example lists to test the function.\n",
    "numbers_x = [10, 20, 30, 40, 10]\n",
    "numbers_y = [75, 65, 35, 75, 30]\n",
    "\n",
    "# Test the function with 'numbers_x'\n",
    "print(f'Given list: {numbers_x}')\n",
    "result_x = first_and_last(numbers_x)\n",
    "print(f'\\nresult is {result_x}')\n",
    "\n",
    "# Test the function with 'numbers_y'\n",
    "print(f'\\nGiven list: {numbers_y}')\n",
    "result_y = first_and_last(numbers_y)\n",
    "print(f'\\nresult is {result_y}')\n"
   ]
  },
  {
   "cell_type": "code",
   "execution_count": 24,
   "id": "ee97af99-ee69-45e8-8b46-4bf6a1f8bdd3",
   "metadata": {},
   "outputs": [
    {
     "name": "stdout",
     "output_type": "stream",
     "text": [
      "Given list is [10, 20, 33, 46, 55]\n",
      "Divisible by 5\n",
      "10\n",
      "20\n",
      "55\n"
     ]
    }
   ],
   "source": [
    "# 4)\n",
    "\n",
    "# Define a list of numbers.\n",
    "given_list = [10, 20, 33, 46, 55]\n",
    "\n",
    "# Print a message to the console.\n",
    "print (\"Given list is\", given_list)\n",
    "print(\"Divisible by 5\")\n",
    "\n",
    "# Loop through each number in the list.\n",
    "for number in given_list:\n",
    "    # Check if the number is perfectly divisible by 5 using the modulo operator.\n",
    "    # The remainder of the division should be 0.\n",
    "    if number % 5 == 0:\n",
    "        # If the condition is true, print the number.\n",
    "        print (number)\n",
    "\n",
    "\n"
   ]
  },
  {
   "cell_type": "code",
   "execution_count": 28,
   "id": "888bbe36-a4cc-4cf7-8cd8-20085e81ab5a",
   "metadata": {},
   "outputs": [
    {
     "name": "stdout",
     "output_type": "stream",
     "text": [
      "Anjali appeared 2 times\n"
     ]
    }
   ],
   "source": [
    "# 5)\n",
    "\n",
    "# Define the main string to be searched.\n",
    "str_x = \"Anjali is good developer. Anjali is a writer\"\n",
    "\n",
    "# Define the substring to be counted.\n",
    "substring = \"Anjali\"\n",
    "\n",
    "# Use the .count() method to find how many times the substring appears.\n",
    "count = str_x.count(substring)\n",
    "\n",
    "# Print the result using an f-string for formatted output.\n",
    "print (f\"{substring} appeared {count} times\")\n"
   ]
  },
  {
   "cell_type": "code",
   "execution_count": 34,
   "id": "f60a6700-d0b2-4f26-b882-d869ae548d47",
   "metadata": {},
   "outputs": [
    {
     "name": "stdout",
     "output_type": "stream",
     "text": [
      "1 \n",
      "2 2 \n",
      "3 3 3 \n",
      "4 4 4 4 \n",
      "5 5 5 5 5 \n"
     ]
    }
   ],
   "source": [
    "# 6)\n",
    "\n",
    "# The outer 'for' loop iterates through the numbers from 1 up to (but not including) 6.\n",
    "# This loop controls the number that is printed and the number of rows.\n",
    "for i in range (1, 6):\n",
    "    # Inner loop controls how many times 'i' is printed per row.\n",
    "    for J in range(i):\n",
    "        # Prints the number on the same line, with a space.\n",
    "        print (i, end=' ')\n",
    "    # Moves to the next line after each row is complete.\n",
    "    print()"
   ]
  },
  {
   "cell_type": "code",
   "execution_count": 50,
   "id": "b135d194-675b-4561-a9a3-ffff01a5b2aa",
   "metadata": {},
   "outputs": [
    {
     "name": "stdout",
     "output_type": "stream",
     "text": [
      "   1    2    3    4    5    6    7    8    9   10 \n",
      "   2    4    6    8   10   12   14   16   18   20 \n",
      "   3    6    9   12   15   18   21   24   27   30 \n",
      "   4    8   12   16   20   24   28   32   36   40 \n",
      "   5   10   15   20   25   30   35   40   45   50 \n",
      "   6   12   18   24   30   36   42   48   54   60 \n",
      "   7   14   21   28   35   42   49   56   63   70 \n",
      "   8   16   24   32   40   48   56   64   72   80 \n",
      "   9   18   27   36   45   54   63   72   81   90 \n",
      "  10   20   30   40   50   60   70   80   90  100 \n"
     ]
    }
   ],
   "source": [
    "# 7)\n",
    "\n",
    "# Outer loop controls the rows (1 through 10).\n",
    "for i in range(1, 11):\n",
    "    # Calculates the product of the row and column numbers.\n",
    "    for j in range(1, 11):\n",
    "        product = i * j\n",
    "        # Prints the product in a 4-character wide space, followed by a space, on the same line.\n",
    "        print(f\"{product:4}\", end=' ')\n",
    "    print()"
   ]
  },
  {
   "cell_type": "code",
   "execution_count": 57,
   "id": "ec3ac251-8ce1-4233-b5b4-1ca2228aafff",
   "metadata": {},
   "outputs": [
    {
     "name": "stdout",
     "output_type": "stream",
     "text": [
      "[ 117.5  -165.63  -47.9     2.83   45.03 -184.7 ]\n",
      "[861.38 237.08 496.68 608.54 701.59 195.03]\n"
     ]
    }
   ],
   "source": [
    "# 8)\n",
    "\n",
    "import numpy as np\n",
    "\n",
    "# A list of numbers representing temperatures in Kelvin.\n",
    "Temp_K = [390.65, 107.52, 225.25, 275.98, 318.18, 88.45]\n",
    "\n",
    "# The same list, but this time we're treating the numbers as weights in kilograms. I used the same list becuase the weight was not listed.\n",
    "Weights_K = [390.65, 107.52, 225.25, 275.98, 318.18, 88.45]\n",
    "\n",
    "# Convert the temperature list into a NumPy array for efficient calculations.\n",
    "Temp_K_array = np.array(Temp_K)\n",
    "\n",
    "# Convert the weight list into a NumPy array.\n",
    "Weights_K_array = np.array(Weights_K)\n",
    "\n",
    "# Convert Kelvin temperatures to Celsius using element-wise subtraction.\n",
    "Temp_C_array = Temp_K_array - 273.15\n",
    "\n",
    "# Convert kilograms to pounds using element-wise multiplication.\n",
    "# The conversion factor is 1 kg = 2.205 lbs.\n",
    "Weights_lbs_array = Weights_K_array * 2.205\n",
    "\n",
    "# Round the pound values to two decimal places for a cleaner output.\n",
    "lbs_rounded = np.round(Weights_lbs_array, decimals=2)\n",
    "\n",
    "# Print the resulting Celsius temperatures.\n",
    "print(Temp_C_array)\n",
    "\n",
    "# Print the final rounded pound values.\n",
    "print(lbs_rounded)\n",
    "\n"
   ]
  },
  {
   "cell_type": "code",
   "execution_count": 1,
   "id": "87347955-5d84-4b51-a90c-7bda8745fe24",
   "metadata": {},
   "outputs": [
    {
     "name": "stdout",
     "output_type": "stream",
     "text": [
      "Requirement already satisfied: pandas in /opt/anaconda3/lib/python3.13/site-packages (2.2.3)\n",
      "Requirement already satisfied: numpy>=1.26.0 in /opt/anaconda3/lib/python3.13/site-packages (from pandas) (2.1.3)\n",
      "Requirement already satisfied: python-dateutil>=2.8.2 in /opt/anaconda3/lib/python3.13/site-packages (from pandas) (2.9.0.post0)\n",
      "Requirement already satisfied: pytz>=2020.1 in /opt/anaconda3/lib/python3.13/site-packages (from pandas) (2024.1)\n",
      "Requirement already satisfied: tzdata>=2022.7 in /opt/anaconda3/lib/python3.13/site-packages (from pandas) (2025.2)\n",
      "Requirement already satisfied: six>=1.5 in /opt/anaconda3/lib/python3.13/site-packages (from python-dateutil>=2.8.2->pandas) (1.17.0)\n"
     ]
    }
   ],
   "source": [
    "!pip install pandas"
   ]
  },
  {
   "cell_type": "code",
   "execution_count": 8,
   "id": "b501ee7d-1956-4d65-adea-f0d524682e91",
   "metadata": {},
   "outputs": [
    {
     "name": "stdout",
     "output_type": "stream",
     "text": [
      "Entire Data Frame\n",
      "  Student Hair Color Eye Color  Weight in Kilograms\n",
      "1   Tommy      Brown     Hazel                   60\n",
      "2    Fred       Grey     Green                   80\n",
      "3    Gail     Blonde      Blue                   76\n",
      "4  Kelvin      Brown     Brown                   60\n",
      "5   Randy      Black     Hazel                   88\n",
      "6   Ariel      Brown      Blue                   85\n",
      "\n",
      "==============================\n",
      "\n",
      "Hair Color Column as Panda Series\n",
      "1     Brown\n",
      "2      Grey\n",
      "3    Blonde\n",
      "4     Brown\n",
      "5     Black\n",
      "6     Brown\n",
      "Name: Hair Color, dtype: object\n",
      "\n",
      "==============================\n",
      "\n",
      "Eye Color Column as Panda DataFrame\n",
      "  Eye Color\n",
      "1     Hazel\n",
      "2     Green\n",
      "3      Blue\n",
      "4     Brown\n",
      "5     Hazel\n",
      "6      Blue\n",
      "\n",
      "==============================\n",
      "\n",
      "DataFrame with Students and Weight Columns\n",
      "  Student  Weight in Kilograms\n",
      "1   Tommy                   60\n",
      "2    Fred                   80\n",
      "3    Gail                   76\n",
      "4  Kelvin                   60\n",
      "5   Randy                   88\n",
      "6   Ariel                   85\n",
      "\n",
      "==============================\n",
      "\n",
      "The Second through Fourth Observations\n",
      "  Student Hair Color Eye Color  Weight in Kilograms\n",
      "2    Fred       Grey     Green                   80\n",
      "3    Gail     Blonde      Blue                   76\n",
      "4  Kelvin      Brown     Brown                   60\n"
     ]
    }
   ],
   "source": [
    "# 9)\n",
    "\n",
    "# Import the pandas library, which is essential for data analysis.\n",
    "import pandas as pd \n",
    "\n",
    "# Create a dictionary to hold the data for the DataFrame.\n",
    "data = {\n",
    "    'Student': ['Tommy', 'Fred', 'Gail', 'Kelvin', 'Randy', 'Ariel'],\n",
    "    'Hair Color': ['Brown', 'Grey', 'Blonde', 'Brown', 'Black', 'Brown'],\n",
    "    'Eye Color': ['Hazel', 'Green', 'Blue', 'Brown', 'Hazel', 'Blue'],\n",
    "    'Weight in Kilograms': [60,80,76,60,88,85]\n",
    "}\n",
    "\n",
    "# Create a DataFrame from the dictionary, setting a custom index from 1 to 6.\n",
    "df = pd.DataFrame(data, index=range(1, len(data['Student']) + 1 ))\n",
    "\n",
    "# Print the entire DataFrame.\n",
    "print (\"Entire Data Frame\")\n",
    "print (df)\n",
    "print (\"\\n\" + \"=\"*30 + \"\\n\")\n",
    "\n",
    "# Select the 'Hair Color' column as a Pandas Series using single brackets.\n",
    "print(\"Hair Color Column as Panda Series\")\n",
    "hair_color_series = df['Hair Color']\n",
    "print (hair_color_series)\n",
    "print (\"\\n\" + \"=\"*30 + \"\\n\")\n",
    "\n",
    "# Select the 'Eye Color' column as a Pandas DataFrame using double brackets.\n",
    "print (\"Eye Color Column as Panda DataFrame\")\n",
    "eye_color_df = df [['Eye Color']]\n",
    "print (eye_color_df)\n",
    "print (\"\\n\" + \"=\"*30 + \"\\n\")\n",
    "\n",
    "# Select multiple columns ('Student' and 'Weight') to create a new DataFrame.\n",
    "print (\"DataFrame with Students and Weight Columns\")\n",
    "student_and_weight_df = df[['Student', 'Weight in Kilograms']]\n",
    "print (student_and_weight_df)\n",
    "print (\"\\n\" + \"=\"*30 + \"\\n\")\n",
    "\n",
    "# Use .loc to select rows by their index labels, from 2 to 4 (inclusive).\n",
    "print (\"The Second through Fourth Observations\")\n",
    "second_to_fourth_observations = df.loc[2:4]\n",
    "print (second_to_fourth_observations)\n",
    "\n",
    "\n"
   ]
  }
 ],
 "metadata": {
  "kernelspec": {
   "display_name": "Python 3 (ipykernel)",
   "language": "python",
   "name": "python3"
  },
  "language_info": {
   "codemirror_mode": {
    "name": "ipython",
    "version": 3
   },
   "file_extension": ".py",
   "mimetype": "text/x-python",
   "name": "python",
   "nbconvert_exporter": "python",
   "pygments_lexer": "ipython3",
   "version": "3.13.5"
  }
 },
 "nbformat": 4,
 "nbformat_minor": 5
}
